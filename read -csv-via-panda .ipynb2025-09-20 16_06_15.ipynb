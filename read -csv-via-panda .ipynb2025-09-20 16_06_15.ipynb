{
 "cells": [
  {
   "cell_type": "code",
   "execution_count": 0,
   "metadata": {
    "application/vnd.databricks.v1+cell": {
     "cellMetadata": {},
     "inputWidgets": {},
     "nuid": "d2355fff-7a9c-425f-99b7-74d2d49b5a2c",
     "showTitle": false,
     "tableResultSettingsMap": {},
     "title": ""
    }
   },
   "outputs": [],
   "source": [
    "Uploading csv to Databricks as a volume and table\n",
    "https://docs.databricks.com/aws/en/getting-started/concepts\n",
    "You can upload local files to Databricks to create a Delta table or store data in volumes.\n",
    "\n",
    "Reading via tables\n",
    "\n",
    "df = spark.read.table(\"workspace.titanic_dataset.titanic\")\n",
    "display(df)\n",
    "     \n",
    "\n",
    "pdf = df.toPandas()\n",
    "display(pdf)\n",
    "     \n",
    "\n",
    "%pip list\n",
    "     \n",
    "\n",
    "pdf = spark.read.table(\"workspace.titanic_dataset.titanic\").toPandas()\n",
    "display(pdf)\n",
    "     \n",
    "Pandas does not have a built-in method to read Spark tables directly.\n",
    "pd.read_csv() can only read from accessible file paths, not Spark tables.\n",
    "The standard way is to use Spark to read the table, then convert to pandas as shown previously.\n",
    "\n",
    "df.write.mode(\"overwrite\").option(\"header\", True).csv(\"/dbfs/tmp/titanic.csv\")\n",
    "     \n",
    "Reading via Volumes\n",
    "\n",
    "import pandas as pd\n",
    "\n",
    "pdf_via_volume = pd.read_csv(\"/Volumes/workspace/titanic_dataset/titanic_csv/titanic.csv\")\n",
    "display(pdf_via_volume)\n",
    "     \n",
    "\n",
    "pdf_via_volume.describe()\n",
    "     \n",
    "\n",
    "type(pdf_via_volume.describe)"
   ]
  }
 ],
 "metadata": {
  "application/vnd.databricks.v1+notebook": {
   "computePreferences": null,
   "dashboards": [],
   "environmentMetadata": {
    "base_environment": "",
    "environment_version": "3"
   },
   "inputWidgetPreferences": null,
   "language": "python",
   "notebookMetadata": {
    "pythonIndentUnit": 4
   },
   "notebookName": "read -csv-via-panda .ipynb2025-09-20 16_06_15",
   "widgets": {}
  },
  "language_info": {
   "name": "python"
  }
 },
 "nbformat": 4,
 "nbformat_minor": 0
}
